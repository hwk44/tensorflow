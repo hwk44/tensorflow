{
 "cells": [
  {
   "cell_type": "markdown",
   "metadata": {
    "id": "CtmAAR2SYOY4"
   },
   "source": [
    "# Lab\n",
    "\n",
    "\n"
   ]
  },
  {
   "cell_type": "markdown",
   "metadata": {
    "id": "l8OPnBvPg-6J"
   },
   "source": [
    "## 0. Prerequisite"
   ]
  },
  {
   "cell_type": "code",
   "execution_count": 1,
   "metadata": {
    "id": "6M7cYFV0g_S4"
   },
   "outputs": [],
   "source": [
    "import matplotlib.pyplot as plt\n",
    "import numpy as np\n",
    "import tensorflow as tf\n",
    "import pandas as pd"
   ]
  },
  {
   "cell_type": "code",
   "execution_count": 3,
   "metadata": {
    "id": "8nHMwY-GkOdt"
   },
   "outputs": [],
   "source": [
    "def print_tensor(t_lst, labels=None):\n",
    "  import string\n",
    "  labels = string.ascii_lowercase[:len(t_lst)+1] if labels is None else labels\n",
    "  for label, data in list(zip(labels, t_lst)):\n",
    "    print(label, 'type: {},\\nshape: {},\\nrank: {},\\nsize:{},\\ndtype: {}'\\\n",
    "          .format(type(data), data.shape, tf.rank(data), tf.size(data), data.dtype), sep='\\n')"
   ]
  },
  {
   "cell_type": "markdown",
   "metadata": {
    "id": "w6dvVR-SAhr0"
   },
   "source": [
    "## 문제 1\n",
    "---\n",
    "\n",
    "2 x 2 행렬을 나타내는 constant 를 정의하시오. \n",
    "\n",
    "단, 값은 1, 2, 3, 4 이며 타입은 float32 으로 하시오. \n",
    "\n",
    "* **출력형식**\n",
    "\n",
    "<tf.Tensor: shape=(2, 2), dtype=float32, numpy=array([[1., 2.],[3., 4.]], dtype=float32)>\n",
    "\n",
    "---"
   ]
  },
  {
   "cell_type": "code",
   "execution_count": 4,
   "metadata": {
    "colab": {
     "base_uri": "https://localhost:8080/"
    },
    "id": "abGEU9OTbYLH",
    "outputId": "8dcc3fd1-61b2-4b1e-9a7c-0e4bb1885bf0"
   },
   "outputs": [
    {
     "data": {
      "text/plain": [
       "<tf.Tensor: shape=(2, 2), dtype=float32, numpy=\n",
       "array([[1., 2.],\n",
       "       [3., 4.]], dtype=float32)>"
      ]
     },
     "execution_count": 4,
     "metadata": {},
     "output_type": "execute_result"
    }
   ],
   "source": [
    "data = np.array([1,2,3,4])\n",
    "tf.constant(data, shape=(2,2), dtype=tf.dtypes.float32)\n",
    "\n",
    "#tf.constant([1,2,3,4], shape=(2,2), dtype=tf.dtypes.float32)"
   ]
  },
  {
   "cell_type": "markdown",
   "metadata": {
    "id": "0vQ4R0qiAVnu"
   },
   "source": [
    "## 문제 2\n",
    "---\n",
    "np.array[[1,2,3],[4,5,6]] 을 Variable 로 정의하시오.\n",
    "\n",
    "* **출력형식**\n",
    "\n",
    "\n",
    "<tf.Variable 'Variable:0' shape=(2, 3) dtype=int64, numpy=array([[1, 2, 3],[4, 5, 6]])>\n",
    "\n",
    "---"
   ]
  },
  {
   "cell_type": "code",
   "execution_count": null,
   "metadata": {
    "colab": {
     "base_uri": "https://localhost:8080/"
    },
    "id": "AXHJ8bW8bmNN",
    "outputId": "20f230ff-19dd-4377-e167-fa84ea7da3a0"
   },
   "outputs": [
    {
     "data": {
      "text/plain": [
       "<tf.Variable 'Variable:0' shape=(2, 3) dtype=int64, numpy=\n",
       "array([[1, 2, 3],\n",
       "       [4, 5, 6]])>"
      ]
     },
     "execution_count": 4,
     "metadata": {},
     "output_type": "execute_result"
    }
   ],
   "source": [
    "data = np.array([[1,2,3], \n",
    "                 [4,5,6]])\n",
    "tf.Variable(data)\n",
    "#tf.Variable([1, 2, 3, 4, 5, 6], shape=(2,3))"
   ]
  },
  {
   "cell_type": "markdown",
   "metadata": {
    "id": "2j3Q1IhaBf_e"
   },
   "source": [
    "## 문제 3\n",
    "---\n",
    "주어진 tensor 에서 특정 elements 를 추출하시오.\n",
    "\n",
    "* **주어진 tensor**\n",
    "\n",
    "```python\n",
    "t1 = tf.constant([0, 1, 2, 3, 4, 5, 6, 7])\n",
    "\n",
    "t2 = tf.constant([[0, 1, 2, 3, 4],\n",
    "                [5, 6, 7, 8, 9],\n",
    "                [10, 11, 12, 13, 14],\n",
    "                [15, 16, 17, 18, 19]])\n",
    "\n",
    "t3 = tf.constant([[[1, 3, 5, 7],\n",
    "                   [9, 11, 13, 15]],\n",
    "                  [[17, 19, 21, 23],\n",
    "                   [25, 27, 29, 31]]\n",
    "                  ])\n",
    "```\n",
    "\n",
    "* **출력형식**\n",
    "\n",
    "t1 tf.Tensor([1 2 3], shape=(3,), dtype=int32)\n",
    "\n",
    "t2 tf.Tensor( [[ 1 2] [ 6 7] [11 12]], shape=(3, 2), dtype=int32)\n",
    "\n",
    "t3 tf.Tensor([[[25 27]]], shape=(1, 1, 2), dtype=int32)\n",
    "\n",
    "---"
   ]
  },
  {
   "cell_type": "code",
   "execution_count": null,
   "metadata": {
    "colab": {
     "base_uri": "https://localhost:8080/"
    },
    "id": "Bu1D4Zq3Bjnw",
    "outputId": "080825bb-658e-43d0-96e0-9854c0666e03"
   },
   "outputs": [
    {
     "name": "stdout",
     "output_type": "stream",
     "text": [
      "t1 tf.Tensor([1 2 3], shape=(3,), dtype=int32)\n",
      "t2 tf.Tensor(\n",
      "[[ 1  2]\n",
      " [ 6  7]\n",
      " [11 12]], shape=(3, 2), dtype=int32)\n",
      "tf.Tensor([[[25 27]]], shape=(1, 1, 2), dtype=int32)\n",
      "tf.Tensor([[[25 27]]], shape=(1, 1, 2), dtype=int32)\n"
     ]
    }
   ],
   "source": [
    "t1 = tf.constant([0, 1, 2, 3, 4, 5, 6, 7])\n",
    "\n",
    "t2 = tf.constant([[0, 1, 2, 3, 4],\n",
    "                  [5, 6, 7, 8, 9],\n",
    "                 [10, 11, 12, 13, 14],\n",
    "                 [15, 16, 17, 18, 19]])\n",
    "\n",
    "t3 = tf.constant([[[1, 3, 5, 7],\n",
    "                   [9, 11, 13, 15]],\n",
    "                  [[17, 19, 21, 23],\n",
    "                   [25, 27, 29, 31]]\n",
    "                  ])\n",
    "\n",
    "print('t1', t1[1:4])\n",
    "print('t2', t2[:3, 1:3])\n",
    "print(t3[1:2, 1:2, 0:2])\n",
    "#print(tf.slice(t3, begin=[1, 1, 0], size=[1, 1, 2]))"
   ]
  },
  {
   "cell_type": "code",
   "execution_count": 7,
   "metadata": {
    "colab": {
     "base_uri": "https://localhost:8080/"
    },
    "id": "K3q6fAYL9v6n",
    "outputId": "add1e045-95fb-4312-d97d-88eb0bd2b0aa"
   },
   "outputs": [
    {
     "name": "stdout",
     "output_type": "stream",
     "text": [
      "a\n",
      "type: <class 'tensorflow.python.framework.ops.EagerTensor'>,\n",
      "shape: (2, 2, 4),\n",
      "rank: 3,\n",
      "size:16,\n",
      "dtype: <dtype: 'int32'>\n"
     ]
    }
   ],
   "source": [
    "t3 = tf.constant([[[1, 3, 5, 7],\n",
    "                   [9, 11, 13, 15]],\n",
    "                  [[17, 19, 21, 23],\n",
    "                   [25, 27, 29, 31]]\n",
    "                  ])\n",
    "print_tensor([t3])"
   ]
  },
  {
   "cell_type": "markdown",
   "metadata": {
    "id": "tx-xRRRVk8QV"
   },
   "source": [
    "## 문제 4\n",
    "---\n",
    "shape 이 3 x 16 x 16 인 tensor를 생성하시오.\n",
    "\n",
    "단, 값은 모두 1로 설정하시오.\n",
    "\n",
    "* **출력형식**\n",
    "\n",
    "\n",
    "<tf.Tensor: shape=(3, 16, 16), dtype=float32, numpy=생략>\n",
    "\n",
    "---"
   ]
  },
  {
   "cell_type": "code",
   "execution_count": null,
   "metadata": {
    "id": "ikBWtBc-kckM"
   },
   "outputs": [],
   "source": [
    "tf.ones(shape=(3, 16, 16))"
   ]
  },
  {
   "cell_type": "markdown",
   "metadata": {
    "id": "Xs3noXsMl0jo"
   },
   "source": [
    "## 문제 5\n",
    "---\n",
    "shape 이 3 x 16 x 16 인 tensor를 3개 생성하시오.\n",
    "\n",
    "* 첫 번째 tensor는 값이 모두 0 \n",
    "* 두 번째 tensor는 값이 모두 1\n",
    "* 세 번째 tensor는 값이 모두 2\n",
    "\n",
    "단, 3개의 tensors를 하나의 tensor 에 저장하시오.\n",
    "\n",
    "* **출력형식**\n",
    "\n",
    "<tf.Tensor: shape=(3, 3, 16, 16), dtype=float32, numpy=생략>"
   ]
  },
  {
   "cell_type": "code",
   "execution_count": 10,
   "metadata": {
    "colab": {
     "base_uri": "https://localhost:8080/"
    },
    "id": "esB5XNFom7gD",
    "outputId": "0b11923e-3bdb-4de2-99e7-b689ea62120c"
   },
   "outputs": [
    {
     "data": {
      "text/plain": [
       "TensorShape([3, 3, 16, 16])"
      ]
     },
     "execution_count": 10,
     "metadata": {},
     "output_type": "execute_result"
    }
   ],
   "source": [
    "t1 = tf.zeros(shape=(3,16,16))\n",
    "t2 = tf.ones(shape=(3,16,16))\n",
    "t3 = 1+tf.ones(shape=(3,16,16))\n",
    "#print('t1', t1, '\\n')\n",
    "#print('t2', t2, '\\n')\n",
    "#print('t3', t3, '\\n')\n",
    "tf.stack([t1, t2, t3], axis=0).shape"
   ]
  },
  {
   "cell_type": "markdown",
   "metadata": {
    "id": "-d-iyaDToaSS"
   },
   "source": [
    "## 문제 6\n",
    "---\n",
    "shape 이 3 x 16 x 16 인 tensor (dtype=int32) 를 8개 생성하시오.\n",
    "\n",
    "* tensor의 값은 0~255 범위의 random 정수값\n",
    "\n",
    "단, 8개의 tensors를 하나의 tensor 에 저장하시오.\n",
    "\n",
    "* **출력형식**\n",
    "\n",
    "<tf.Tensor: shape=(8, 3, 16, 16), dtype=int32, numpy=생략>"
   ]
  },
  {
   "cell_type": "code",
   "execution_count": 11,
   "metadata": {
    "colab": {
     "base_uri": "https://localhost:8080/"
    },
    "id": "OK0RvJ8_pAp9",
    "outputId": "da102b03-c597-42e7-f78c-9349439e7344"
   },
   "outputs": [
    {
     "name": "stdout",
     "output_type": "stream",
     "text": [
      "a\n",
      "type: <class 'tensorflow.python.framework.ops.EagerTensor'>,\n",
      "shape: (8, 3, 16, 16),\n",
      "rank: 4,\n",
      "size:6144,\n",
      "dtype: <dtype: 'int32'>\n"
     ]
    }
   ],
   "source": [
    "t1 = tf.random.uniform(shape=(8, 3,16,16), minval=0, maxval=255, dtype=tf.int32)\n",
    "print_tensor([t1])"
   ]
  },
  {
   "cell_type": "code",
   "execution_count": 12,
   "metadata": {
    "colab": {
     "base_uri": "https://localhost:8080/",
     "height": 470
    },
    "id": "FHz-Onm7k9-C",
    "outputId": "bb9fe98e-7354-4ce0-a565-e1c6116db320"
   },
   "outputs": [
    {
     "name": "stdout",
     "output_type": "stream",
     "text": [
      "x_range [0, 254]\n"
     ]
    },
    {
     "data": {
      "image/png": "[encoded data removed]",
      "text/plain": [
       "<Figure size 500x500 with 1 Axes>"
      ]
     },
     "metadata": {},
     "output_type": "display_data"
    }
   ],
   "source": [
    "def show_hist_plot(x, x_range):\n",
    "  import matplotlib.pyplot as plt\n",
    "  fig, ax = plt.subplots(figsize=(5, 5))\n",
    "  t = tf.reshape(x, [-1])\n",
    "  print('x_range', x_range)\n",
    "  ax.hist(t, range=x_range)\n",
    "\n",
    "show_hist_plot(t1, [tf.reduce_min(t1).numpy(), tf.reduce_max(t1).numpy()])"
   ]
  },
  {
   "cell_type": "markdown",
   "metadata": {
    "id": "ELUuSllBetDn"
   },
   "source": [
    "## 문제 7\n",
    "---\n",
    "shape 이 3 x 16 x 16 인 tensor (dtype=flaot32) 를 8개 생성하시오.\n",
    "\n",
    "* tensor의 값은 mean=0.0, stddev=1.0 인 random 실수값\n",
    "\n",
    "단, 8개의 tensors를 하나의 tensor 에 저장하시오.\n",
    "\n",
    "* **출력형식**\n",
    "\n",
    "<tf.Tensor: shape=(8, 3, 16, 16), dtype=int32, numpy=생략>"
   ]
  },
  {
   "cell_type": "code",
   "execution_count": 13,
   "metadata": {
    "colab": {
     "base_uri": "https://localhost:8080/"
    },
    "id": "P4DWueQmeubB",
    "outputId": "ec5f4303-e7af-4fb6-d9b8-872146df1759"
   },
   "outputs": [
    {
     "name": "stdout",
     "output_type": "stream",
     "text": [
      "tf.Tensor(-0.0021596802, shape=(), dtype=float32)\n",
      "tf.Tensor(1.0084387, shape=(), dtype=float32)\n"
     ]
    }
   ],
   "source": [
    "t1 = tf.random.normal(shape=(8, 3, 16, 16))  # a normal distribution.\n",
    "#print_tensor([t1])\n",
    "print(tf.reduce_mean(t1))\n",
    "print(tf.math.reduce_std(t1))"
   ]
  },
  {
   "cell_type": "code",
   "execution_count": 14,
   "metadata": {
    "colab": {
     "base_uri": "https://localhost:8080/",
     "height": 465
    },
    "id": "tEvuhsAQlfh_",
    "outputId": "6238d61b-f873-4c32-8ebb-0c625a7740d2"
   },
   "outputs": [
    {
     "name": "stdout",
     "output_type": "stream",
     "text": [
      "x_range [-3.885654, 4.3493147]\n"
     ]
    },
    {
     "data": {
      "image/png": "[encoded data removed]",
      "text/plain": [
       "<Figure size 500x500 with 1 Axes>"
      ]
     },
     "metadata": {},
     "output_type": "display_data"
    }
   ],
   "source": [
    "show_hist_plot(t1, [tf.reduce_min(t1).numpy(), tf.reduce_max(t1).numpy()])"
   ]
  },
  {
   "cell_type": "markdown",
   "metadata": {
    "id": "0oWkAdgtd5dJ"
   },
   "source": [
    "## 문제 8\n",
    "---\n",
    "주어진 MPG dataset을 이용하여 데이터를 분석하시오.\n",
    "\n",
    "* 결측값을 찾아 해당 컬럼의 평균값으로 대체\n",
    "* MPG, Cylinders, Horsepower, Weight 컬럼들의 합, 평균, 최솟값, 최댓값\n",
    "* Horsepower 가 가장 큰 데이터의 row 번호 (0부터 시작)\n",
    "* Horsepower 가 가장 큰 데이터 (하나임)\n",
    "\n",
    "```python\n",
    "#pip install -q seaborn\n",
    "import matplotlib.pyplot as plt\n",
    "import numpy as np\n",
    "import pandas as pd\n",
    "#import seaborn as sns\n",
    "\n",
    "# Make NumPy printouts easier to read.\n",
    "np.set_printoptions(precision=3, suppress=True)\n",
    "import tensorflow as tf\n",
    "\n",
    "url = 'http://archive.ics.uci.edu/ml/machine-learning-databases/auto-mpg/auto-mpg.data'\n",
    "column_names = ['MPG', 'Cylinders', 'Displacement', 'Horsepower', 'Weight',\n",
    "                'Acceleration', 'Model Year', 'Origin']\n",
    "\n",
    "raw_dataset = pd.read_csv(url, names=column_names,\n",
    "                          na_values='?', comment='\\t',\n",
    "                          sep=' ', skipinitialspace=True)\n",
    "raw_dataset.head()\n",
    "# 결측값 처리\n",
    "dataset = tf.Variable(raw_dataset)\n",
    "\n",
    "```"
   ]
  },
  {
   "cell_type": "code",
   "execution_count": 15,
   "metadata": {
    "colab": {
     "base_uri": "https://localhost:8080/"
    },
    "id": "v2Had8gDjLo7",
    "outputId": "b3fcdc45-9126-404d-b8c9-2de0b8c7b3b3"
   },
   "outputs": [
    {
     "name": "stdout",
     "output_type": "stream",
     "text": [
      "<class 'pandas.core.frame.DataFrame'>\n",
      "RangeIndex: 398 entries, 0 to 397\n",
      "Data columns (total 8 columns):\n",
      " #   Column        Non-Null Count  Dtype  \n",
      "---  ------        --------------  -----  \n",
      " 0   MPG           398 non-null    float64\n",
      " 1   Cylinders     398 non-null    int64  \n",
      " 2   Displacement  398 non-null    float64\n",
      " 3   Horsepower    392 non-null    float64\n",
      " 4   Weight        398 non-null    float64\n",
      " 5   Acceleration  398 non-null    float64\n",
      " 6   Model Year    398 non-null    int64  \n",
      " 7   Origin        398 non-null    int64  \n",
      "dtypes: float64(5), int64(3)\n",
      "memory usage: 25.0 KB\n",
      "None\n",
      "      MPG  Cylinders  Displacement  Horsepower  Weight  Acceleration   \n",
      "32   25.0          4          98.0         NaN  2046.0          19.0  \\\n",
      "126  21.0          6         200.0         NaN  2875.0          17.0   \n",
      "330  40.9          4          85.0         NaN  1835.0          17.3   \n",
      "336  23.6          4         140.0         NaN  2905.0          14.3   \n",
      "354  34.5          4         100.0         NaN  2320.0          15.8   \n",
      "374  23.0          4         151.0         NaN  3035.0          20.5   \n",
      "\n",
      "     Model Year  Origin  \n",
      "32           71       1  \n",
      "126          74       1  \n",
      "330          80       2  \n",
      "336          80       1  \n",
      "354          81       2  \n",
      "374          82       1  \n",
      "104.46938775510205\n",
      "<class 'pandas.core.frame.DataFrame'>\n",
      "RangeIndex: 398 entries, 0 to 397\n",
      "Data columns (total 8 columns):\n",
      " #   Column        Non-Null Count  Dtype  \n",
      "---  ------        --------------  -----  \n",
      " 0   MPG           398 non-null    float64\n",
      " 1   Cylinders     398 non-null    int64  \n",
      " 2   Displacement  398 non-null    float64\n",
      " 3   Horsepower    398 non-null    float64\n",
      " 4   Weight        398 non-null    float64\n",
      " 5   Acceleration  398 non-null    float64\n",
      " 6   Model Year    398 non-null    int64  \n",
      " 7   Origin        398 non-null    int64  \n",
      "dtypes: float64(5), int64(3)\n",
      "memory usage: 25.0 KB\n",
      "None\n",
      "sum of columns tf.Tensor([   9358.8           2171.           41578.81632653 1182229.        ], shape=(4,), dtype=float64)\n",
      "mean of columns tf.Tensor([  23.51457286    5.45477387  104.46938776 2970.42462312], shape=(4,), dtype=float64)\n",
      "max of columns tf.Tensor([  46.6    8.   230.  5140. ], shape=(4,), dtype=float64)\n",
      "min of columns tf.Tensor([   9.    3.   46. 1613.], shape=(4,), dtype=float64)\n",
      "row num. of maximum horsepower tf.Tensor(116, shape=(), dtype=int64)\n",
      "maximum horsepower tf.Tensor(\n",
      "[1.600e+01 8.000e+00 4.000e+02 2.300e+02 4.278e+03 9.500e+00 7.300e+01\n",
      " 1.000e+00], shape=(8,), dtype=float64)\n"
     ]
    }
   ],
   "source": [
    "column_names = ['MPG', 'Cylinders', 'Displacement', 'Horsepower', 'Weight',\n",
    "                  'Acceleration', 'Model Year', 'Origin']\n",
    "c2i = {v:i for i, v in enumerate(column_names)}\n",
    "i2c = {v:k for k, v in c2i.items()}\n",
    "\n",
    "def load_dataset():\n",
    "  url = 'http://archive.ics.uci.edu/ml/machine-learning-databases/auto-mpg/auto-mpg.data'\n",
    "\n",
    "  raw_dataset = pd.read_csv(url, names=column_names,\n",
    "                            na_values='?', comment='\\t',\n",
    "                            sep=' ', skipinitialspace=True)\n",
    "  print(raw_dataset.info())\n",
    "  print(raw_dataset[raw_dataset['Horsepower'].isna()])\n",
    "  print(raw_dataset['Horsepower'].mean())\n",
    "  non_na_dataset = raw_dataset.fillna(raw_dataset['Horsepower'].mean())\n",
    "  print(non_na_dataset.info())\n",
    "  dataset = tf.Variable(non_na_dataset)\n",
    "  return dataset\n",
    "\n",
    "dataset = load_dataset()\n",
    "target_dataset=tf.gather(dataset, [c2i['MPG'], c2i['Cylinders'], c2i['Horsepower'], c2i['Weight']], axis=1)\n",
    "print('sum of columns', tf.reduce_sum(target_dataset, axis=0))\n",
    "print('mean of columns', tf.reduce_mean(target_dataset, axis=0))\n",
    "print('max of columns', tf.reduce_max(target_dataset, axis=0))\n",
    "print('min of columns', tf.reduce_min(target_dataset, axis=0))\n",
    "max_horseposer_row_num = tf.argmax(dataset[:, c2i['Horsepower']], axis=0)\n",
    "print('row num. of maximum horsepower', max_horseposer_row_num)\n",
    "print('maximum horsepower', dataset[max_horseposer_row_num, :])"
   ]
  },
  {
   "cell_type": "markdown",
   "metadata": {
    "id": "bVYdiuNDexEl"
   },
   "source": [
    "## 문제 9\n",
    "---\n",
    "주어진 이미지를 이용하여 다음 값을 계산하시오.\n",
    "\n",
    "* 각 채널(RGB) 별 이미지의 평균값 (3개)\n",
    "* 각 채널(RGB)축으로 평균값을 계산하여 하나의 이미지로 만들기\n",
    "\n",
    "```python\n",
    "import tensorflow as tf\n",
    "\n",
    "(x_train, y_train), (x_test, y_test) = tf.keras.datasets.cifar10.load_data()\n",
    "print(x_train.shape)\n",
    "print(x_train[0,].shape)\n",
    "image = x_train[3,]\n",
    "\n",
    "fig, ax = plt.subplots(figsize=(5,5))\n",
    "ax.imshow(image)\n",
    "\n",
    "```"
   ]
  },
  {
   "cell_type": "code",
   "execution_count": 16,
   "metadata": {
    "colab": {
     "base_uri": "https://localhost:8080/",
     "height": 520
    },
    "id": "9YlqruMre-Cq",
    "outputId": "0c480414-9a0f-4782-8248-26ebd9f7f5b3"
   },
   "outputs": [
    {
     "name": "stdout",
     "output_type": "stream",
     "text": [
      "Downloading data from https://www.cs.toronto.edu/~kriz/cifar-10-python.tar.gz\n",
      "170498071/170498071 [==============================] - 108s 1us/step\n",
      "(50000, 32, 32, 3)\n",
      "(32, 32, 3)\n"
     ]
    },
    {
     "data": {
      "image/png": "[encoded data removed]",
      "text/plain": [
       "<Figure size 500x500 with 1 Axes>"
      ]
     },
     "metadata": {},
     "output_type": "display_data"
    }
   ],
   "source": [
    "import tensorflow as tf\n",
    "\n",
    "def load_dataset():\n",
    "  (x_train, y_train), (x_test, y_test) = tf.keras.datasets.cifar10.load_data()\n",
    "  print(x_train.shape)\n",
    "  print(x_train[0,].shape)\n",
    "  image = x_train[3,]\n",
    "  return image\n",
    "\n",
    "image = load_dataset()\n",
    "\n",
    "def show_image(image, cmap=None):\n",
    "  fig, ax = plt.subplots(figsize=(5,5))\n",
    "  ax.imshow(image, cmap=cmap)\n",
    "\n",
    "show_image(image)"
   ]
  },
  {
   "cell_type": "code",
   "execution_count": 18,
   "metadata": {
    "colab": {
     "base_uri": "https://localhost:8080/"
    },
    "id": "2g4TS_qJCgLg",
    "outputId": "adccef9e-0df5-4829-9489-8e433fc85fa8"
   },
   "outputs": [
    {
     "data": {
      "text/plain": [
       "(32, 32, 3)"
      ]
     },
     "execution_count": 18,
     "metadata": {},
     "output_type": "execute_result"
    }
   ],
   "source": [
    "image.shape"
   ]
  },
  {
   "cell_type": "code",
   "execution_count": 20,
   "metadata": {
    "colab": {
     "base_uri": "https://localhost:8080/",
     "height": 1000
    },
    "id": "4_3TPgfDszWZ",
    "outputId": "8a037a4c-4bc6-4630-edb8-0e6728d0f080"
   },
   "outputs": [
    {
     "name": "stdout",
     "output_type": "stream",
     "text": [
      "(32, 32)\n"
     ]
    },
    {
     "data": {
      "image/png": "[encoded data removed]",
      "text/plain": [
       "<Figure size 500x500 with 1 Axes>"
      ]
     },
     "metadata": {},
     "output_type": "display_data"
    },
    {
     "data": {
      "image/png": "[encoded data removed]",
      "text/plain": [
       "<Figure size 500x500 with 1 Axes>"
      ]
     },
     "metadata": {},
     "output_type": "display_data"
    },
    {
     "data": {
      "image/png": "[encoded data removed]",
      "text/plain": [
       "<Figure size 500x500 with 1 Axes>"
      ]
     },
     "metadata": {},
     "output_type": "display_data"
    }
   ],
   "source": [
    "image_r = image[:,:,0]\n",
    "image_g = image[:,:,1]\n",
    "image_b = image[:,:,2]\n",
    "print(image_r.shape)\n",
    "\n",
    "show_image(image_r, cmap='Reds')\n",
    "show_image(image_g, cmap='Greens')\n",
    "show_image(image_b, cmap='Blues')"
   ]
  },
  {
   "cell_type": "code",
   "execution_count": 21,
   "metadata": {
    "colab": {
     "base_uri": "https://localhost:8080/",
     "height": 464
    },
    "id": "078_m2cJtl-v",
    "outputId": "930a2dce-dd3c-42a4-904c-3729020b59b1"
   },
   "outputs": [
    {
     "name": "stdout",
     "output_type": "stream",
     "text": [
      "(32, 32, 3)\n"
     ]
    },
    {
     "data": {
      "image/png": "[encoded data removed]",
      "text/plain": [
       "<Figure size 500x500 with 1 Axes>"
      ]
     },
     "metadata": {},
     "output_type": "display_data"
    }
   ],
   "source": [
    "image_all = tf.stack([image_r, image_g, image_b], axis=2)\n",
    "print(image_all.shape)\n",
    "show_image(image_all)"
   ]
  },
  {
   "cell_type": "code",
   "execution_count": 22,
   "metadata": {
    "colab": {
     "base_uri": "https://localhost:8080/",
     "height": 576
    },
    "id": "ebRBsddstztw",
    "outputId": "7cde2f36-a707-4e8e-f280-8bb78b675b1f"
   },
   "outputs": [
    {
     "name": "stdout",
     "output_type": "stream",
     "text": [
      "mean of channel r tf.Tensor(99, shape=(), dtype=uint8)\n",
      "mean of channel g tf.Tensor(83, shape=(), dtype=uint8)\n",
      "mean of channel b tf.Tensor(57, shape=(), dtype=uint8)\n",
      "(32, 32, 3)\n",
      "(32, 32)\n",
      "mean of all channels tf.Tensor(79, shape=(), dtype=uint8)\n",
      "mean of all channels tf.Tensor(80, shape=(), dtype=uint8)\n"
     ]
    },
    {
     "data": {
      "image/png": "[encoded data removed]",
      "text/plain": [
       "<Figure size 500x500 with 1 Axes>"
      ]
     },
     "metadata": {},
     "output_type": "display_data"
    }
   ],
   "source": [
    "print('mean of channel r', tf.reduce_mean(image_r))\n",
    "print('mean of channel g', tf.reduce_mean(image_g))\n",
    "print('mean of channel b', tf.reduce_mean(image_b))\n",
    "print(image.shape)\n",
    "merged_image = tf.reduce_mean(image, axis=2)\n",
    "print(merged_image.shape)\n",
    "print('mean of all channels', tf.reduce_mean(merged_image))\n",
    "print('mean of all channels', tf.reduce_mean(image))\n",
    "show_image(merged_image)"
   ]
  },
  {
   "cell_type": "markdown",
   "metadata": {
    "id": "26z3RfICwX0z"
   },
   "source": [
    "# 과제 1\n",
    "\n",
    "주어진 Auto MPG dataset 데이터 셋을 이용하여 자동차의 연비를 예측하는 모델을 구현하시오.\n",
    "\n",
    "\n",
    "**제출**\n",
    "\n",
    "구현한 코드가 담긴 colab 파일을 PLATO \"텐서플로 과제 제출 게시판\"에 제출하세요. (4/23까지)\n",
    "\n",
    "**참고**\n",
    "\n",
    "https://www.tensorflow.org/tutorials/keras/regression\n",
    "\n",
    "\n",
    "```python\n",
    "import tensorflow as tf\n",
    "import pandas as pd\n",
    "import matplotlib.pyplot as plt\n",
    "import numpy as np\n",
    "\n",
    "url = 'http://archive.ics.uci.edu/ml/machine-learning-databases/auto-mpg/auto-mpg.data'\n",
    "column_names = ['MPG', 'Cylinders', 'Displacement', 'Horsepower', 'Weight',\n",
    "                'Acceleration', 'Model Year', 'Origin']\n",
    "\n",
    "raw_dataset = pd.read_csv(url, names=column_names,\n",
    "                          na_values='?', comment='\\t',\n",
    "                          sep=' ', skipinitialspace=True)\n",
    "```"
   ]
  },
  {
   "cell_type": "code",
   "execution_count": null,
   "metadata": {
    "id": "VaDt0jCPt70X"
   },
   "outputs": [],
   "source": []
  }
 ],
 "metadata": {
  "colab": {
   "provenance": []
  },
  "kernelspec": {
   "display_name": "Python 3 (ipykernel)",
   "language": "python",
   "name": "python3"
  },
  "language_info": {
   "codemirror_mode": {
    "name": "ipython",
    "version": 3
   },
   "file_extension": ".py",
   "mimetype": "text/x-python",
   "name": "python",
   "nbconvert_exporter": "python",
   "pygments_lexer": "ipython3",
   "version": "3.10.10"
  }
 },
 "nbformat": 4,
 "nbformat_minor": 4
}
