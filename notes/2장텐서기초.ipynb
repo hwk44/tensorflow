{
 "cells": [
  {
   "cell_type": "code",
   "execution_count": 1,
   "metadata": {
    "colab": {
     "base_uri": "https://localhost:8080/"
    },
    "executionInfo": {
     "elapsed": 4184,
     "status": "ok",
     "timestamp": 1681881281268,
     "user": {
      "displayName": "Bonghee Hong",
      "userId": "17805293653427923937"
     },
     "user_tz": -540
    },
    "id": "UQmDT6X4K5bW",
    "outputId": "d0364ec4-e99e-4919-c6c4-2ad06c7be195",
    "tags": []
   },
   "outputs": [
    {
     "name": "stdout",
     "output_type": "stream",
     "text": [
      "True\n",
      "False\n",
      "Tensor(\"Const_1:0\", shape=(), dtype=int32)\n",
      "Tensor(\"add:0\", shape=(), dtype=int32)\n",
      "1\n",
      "2\n",
      "3\n"
     ]
    }
   ],
   "source": [
    "#0301\n",
    "from tensorflow.python.framework.ops import disable_eager_execution\n",
    "\n",
    "import tensorflow as tf\n",
    "\n",
    "print(tf.executing_eagerly())\n",
    "disable_eager_execution()\n",
    "print(tf.executing_eagerly())\n",
    "\n",
    "# Graph construction\n",
    "a = tf.constant(1)\n",
    "b = tf.constant(2)\n",
    "c = a + b  # c= tf.add(a, b)\n",
    "\n",
    "print(b)\n",
    "print(c)\n",
    "tf.compat.v1.enable_v2_behavior\n",
    "\n",
    "#2 graph execution\n",
    "sess = tf.compat.v1.Session()\n",
    "print(sess.run(a))\n",
    "print(sess.run(b))\n",
    "print(sess.run(c))\n",
    "sess.close()\n",
    "\n"
   ]
  },
  {
   "cell_type": "code",
   "execution_count": null,
   "metadata": {
    "id": "zkc7exnQYEpH"
   },
   "outputs": [],
   "source": []
  },
  {
   "cell_type": "code",
   "execution_count": 1,
   "metadata": {
    "colab": {
     "base_uri": "https://localhost:8080/"
    },
    "executionInfo": {
     "elapsed": 3001,
     "status": "ok",
     "timestamp": 1681881434998,
     "user": {
      "displayName": "Bonghee Hong",
      "userId": "17805293653427923937"
     },
     "user_tz": -540
    },
    "id": "y_7cHGrVLYRc",
    "outputId": "d09d40b7-092b-4d9d-afa9-61e96c5aaf90",
    "tags": []
   },
   "outputs": [
    {
     "name": "stdout",
     "output_type": "stream",
     "text": [
      "True\n",
      "tf.Tensor(1, shape=(), dtype=int32)\n",
      "tf.Tensor(2, shape=(), dtype=int32)\n",
      "tf.Tensor(3, shape=(), dtype=int32)\n",
      "1\n"
     ]
    },
    {
     "data": {
      "text/plain": [
       "(1, 2, 3)"
      ]
     },
     "execution_count": 1,
     "metadata": {},
     "output_type": "execute_result"
    }
   ],
   "source": [
    "#0302\n",
    "from tensorflow.python.framework.ops import enable_eager_execution\n",
    "import tensorflow as tf\n",
    "enable_eager_execution() #에러  발생시에 런타임 \n",
    "print(tf.executing_eagerly())\n",
    "a = tf.constant(1)\n",
    "b = tf.constant(2)\n",
    "c = a + b   # c= tf.add(a, b)\n",
    "print(a)\n",
    "print(b)\n",
    "print(c)\n",
    "\n",
    "print(tf.constant(1).numpy())\n",
    "a.numpy(), b.numpy(), c.numpy()"
   ]
  },
  {
   "cell_type": "code",
   "execution_count": 4,
   "metadata": {
    "colab": {
     "base_uri": "https://localhost:8080/"
    },
    "executionInfo": {
     "elapsed": 344,
     "status": "ok",
     "timestamp": 1681725960601,
     "user": {
      "displayName": "Bonghee Hong",
      "userId": "17805293653427923937"
     },
     "user_tz": -540
    },
    "id": "-3pKKsLLLvLa",
    "outputId": "9bbef521-061e-4f9b-9ab1-42d441674a3e",
    "tags": []
   },
   "outputs": [
    {
     "name": "stdout",
     "output_type": "stream",
     "text": [
      "tf.Tensor(1, shape=(), dtype=int32)\n",
      "<dtype: 'int32'>\n",
      "0 1 2 3\n",
      "() (4,) (2, 2) (1, 2, 2)\n",
      "tf.Tensor(1, shape=(), dtype=int32)\n",
      "tf.Tensor([1 2], shape=(2,), dtype=int32)\n",
      "tf.Tensor(1, shape=(), dtype=int32)\n",
      "tf.Tensor([1 3], shape=(2,), dtype=int32)\n"
     ]
    }
   ],
   "source": [
    "#0303 - 텐서 생성\n",
    "import tensorflow as tf\n",
    "#1\n",
    "a = tf.constant(1)\n",
    "b = tf.constant([1, 2, 3, 4])\n",
    "c = tf.constant([[1, 2], [3, 4]])\n",
    "d = tf.constant([[[1, 2], [3, 4]]]) # shape 을 이해해야함\n",
    "\n",
    "#2\n",
    "print(a)\n",
    "print(a.dtype)\n",
    "print(a.ndim, b.ndim, c.ndim, d.ndim)\n",
    "print(a.shape, b.shape, c.shape, d.shape)\n",
    "\n",
    "#3: indexing, slicing\n",
    "print(b[0])\n",
    "print(b[:2])\n",
    "print(c[0, 0])\n",
    "print(c[:,0])\n"
   ]
  },
  {
   "cell_type": "code",
   "execution_count": 11,
   "metadata": {
    "colab": {
     "base_uri": "https://localhost:8080/"
    },
    "executionInfo": {
     "elapsed": 867,
     "status": "ok",
     "timestamp": 1681726394035,
     "user": {
      "displayName": "Bonghee Hong",
      "userId": "17805293653427923937"
     },
     "user_tz": -540
    },
    "id": "mo-IawuoL3dO",
    "outputId": "1bfbe30a-7046-4662-b6aa-26c092a29182",
    "tags": []
   },
   "outputs": [
    {
     "name": "stdout",
     "output_type": "stream",
     "text": [
      "<dtype: 'int32'>\n",
      "() (4,) (2, 2) (1, 2, 2)\n",
      "<tf.Variable 'Variable:0' shape=() dtype=int32, numpy=1>\n",
      "tf.Tensor(1, shape=(), dtype=int32)\n",
      "True\n",
      "tf.Tensor(1, shape=(), dtype=int32)\n",
      "tf.Tensor([1 2], shape=(2,), dtype=int32)\n",
      "tf.Tensor(1, shape=(), dtype=int32)\n",
      "tf.Tensor([1 3], shape=(2,), dtype=int32)\n",
      "2397402673456\n",
      "<tf.Variable 'UnreadVariable' shape=() dtype=int32, numpy=10>\n",
      "<tf.Variable 'UnreadVariable' shape=() dtype=int32, numpy=30>\n",
      "<tf.Variable 'UnreadVariable' shape=() dtype=int32, numpy=20>\n",
      "2397402673456\n"
     ]
    }
   ],
   "source": [
    "#0304\n",
    "\n",
    "# 텐서의 rank, type, shape 을 구글링으로 공부\n",
    "import tensorflow as tf\n",
    "#1\n",
    "a = tf.Variable(1)\n",
    "b = tf.Variable([1, 2, 3, 4])\n",
    "c = tf.Variable([[1, 2], [3, 4]])\n",
    "d = tf.Variable([[[1, 2], [3, 4]]])\n",
    "print(a.dtype)\n",
    "print(a.shape, b.shape, c.shape, d.shape)\n",
    " \n",
    "#2\n",
    "print(a)\n",
    "print(a.read_value()) # a.value() \n",
    "print(a.trainable) # true\n",
    "\n",
    "#3: indexing, slicing\n",
    "print(b[0])\n",
    "print(b[:2])\n",
    "print(c[0, 0])\n",
    "print(c[:,0])\n",
    "\n",
    "#4: assign(), assign_add(), assign_sub()\n",
    "# 학습한 후에 가중치 변경\n",
    "print(id(a))\n",
    "print(a.assign(10)) # a.assign(20, read_value=False) : no return\n",
    "print(a.assign_add(20))\n",
    "print(a.assign_sub(10))\n",
    "print(id(a))\n"
   ]
  },
  {
   "cell_type": "code",
   "execution_count": null,
   "metadata": {
    "colab": {
     "base_uri": "https://localhost:8080/"
    },
    "executionInfo": {
     "elapsed": 318,
     "status": "ok",
     "timestamp": 1681726828485,
     "user": {
      "displayName": "Bonghee Hong",
      "userId": "17805293653427923937"
     },
     "user_tz": -540
    },
    "id": "yo3kkDhJL_KK",
    "outputId": "82e6adf8-2bf7-497f-f9bb-c96fd1890580"
   },
   "outputs": [
    {
     "name": "stdout",
     "output_type": "stream",
     "text": [
      "tf.Tensor(\n",
      "[[0. 0. 0.]\n",
      " [0. 0. 0.]], shape=(2, 3), dtype=float32)\n",
      "tf.Tensor(\n",
      "[[1. 1. 1.]\n",
      " [1. 1. 1.]], shape=(2, 3), dtype=float32)\n",
      "tf.Tensor(\n",
      "[[0. 0. 0.]\n",
      " [0. 0. 0.]], shape=(2, 3), dtype=float32)\n",
      "tf.Tensor(\n",
      "[[1. 1. 1.]\n",
      " [1. 1. 1.]], shape=(2, 3), dtype=float32)\n",
      "<tf.Variable 'Variable:0' shape=(2, 3) dtype=float32, numpy=\n",
      "array([[1., 1., 1.],\n",
      "       [1., 1., 1.]], dtype=float32)>\n"
     ]
    }
   ],
   "source": [
    "#0305\n",
    "import tensorflow as tf\n",
    "\n",
    "a = tf.zeros(shape = (2, 3)) # dtype = tf.float32\n",
    "a\n",
    "print(a)\n",
    "\n",
    "b = tf.ones(shape = (2, 3))\n",
    "print(b)\n",
    "\n",
    "c = tf.zeros_like(b)\n",
    "print(c)\n",
    "\n",
    "d = tf.ones_like(c)\n",
    "print(d)\n",
    "\n",
    "w = tf.Variable( d )\n",
    "print(w)\n"
   ]
  },
  {
   "cell_type": "code",
   "execution_count": 12,
   "metadata": {
    "colab": {
     "base_uri": "https://localhost:8080/"
    },
    "executionInfo": {
     "elapsed": 348,
     "status": "ok",
     "timestamp": 1681726919831,
     "user": {
      "displayName": "Bonghee Hong",
      "userId": "17805293653427923937"
     },
     "user_tz": -540
    },
    "id": "9PaiL7xyMGuR",
    "outputId": "7517e917-2f66-4d03-ebc0-27c2d15cf16b",
    "tags": []
   },
   "outputs": [
    {
     "name": "stdout",
     "output_type": "stream",
     "text": [
      "tf.Tensor(\n",
      "[[2. 2. 2.]\n",
      " [2. 2. 2.]], shape=(2, 3), dtype=float32)\n",
      "tf.Tensor([0.   0.25 0.5  0.75 1.  ], shape=(5,), dtype=float32)\n",
      "tf.Tensor([0 1 2 3 4], shape=(5,), dtype=int32)\n",
      "tf.Tensor([1.  1.5 2.  2.5 3.  3.5 4.  4.5], shape=(8,), dtype=float32)\n",
      "<tf.Variable 'Variable:0' shape=(8,) dtype=float32, numpy=array([1. , 1.5, 2. , 2.5, 3. , 3.5, 4. , 4.5], dtype=float32)>\n"
     ]
    }
   ],
   "source": [
    "#0306\n",
    "import tensorflow as tf\n",
    "\n",
    "a= tf.fill([2, 3], 2.0)\n",
    "print(a)\n",
    "\n",
    "b = tf.linspace(0.0, 1.0, 5)\n",
    "print(b)\n",
    "\n",
    "c = tf.range(5)\n",
    "print(c)\n",
    "\n",
    "d = tf.range(1, 5, 0.5)\n",
    "print(d)\n",
    "\n",
    "w = tf.Variable(d)\n",
    "print(w)\n"
   ]
  },
  {
   "cell_type": "code",
   "execution_count": 18,
   "metadata": {
    "colab": {
     "base_uri": "https://localhost:8080/"
    },
    "executionInfo": {
     "elapsed": 322,
     "status": "ok",
     "timestamp": 1681727007529,
     "user": {
      "displayName": "Bonghee Hong",
      "userId": "17805293653427923937"
     },
     "user_tz": -540
    },
    "id": "HbmsBQFkMORb",
    "outputId": "0d8f9f71-1640-4aac-b137-40fef66a2b26",
    "tags": []
   },
   "outputs": [
    {
     "name": "stdout",
     "output_type": "stream",
     "text": [
      "tf.Tensor([0 1 2 3 4 5], shape=(6,), dtype=int32)\n",
      "tf.Tensor(\n",
      "[[0 1]\n",
      " [2 3]\n",
      " [4 5]], shape=(3, 2), dtype=int32)\n",
      "tf.Tensor([0 1 2 3 4 5], shape=(6,), dtype=int32)\n",
      "tf.Tensor(\n",
      "[[0 2 4]\n",
      " [1 3 5]], shape=(2, 3), dtype=int32)\n"
     ]
    }
   ],
   "source": [
    "#0307\n",
    "import tensorflow as tf\n",
    "#1\n",
    "a = tf.range(6)\n",
    "print(a)\n",
    "\n",
    "# b = tf.reshape(a, shape=(3, 2)) \n",
    "b= tf.reshape(a, shape=(-1, 2)) # reshape -1 의 의미?\n",
    "print(b)\n",
    "\n",
    "c = tf.reshape(b, shape=(-1,))\n",
    "print(c)\n",
    "\n",
    "#2\n",
    "d = tf.transpose(b) # tf.transpose(b, perm=[1, 0])\n",
    "print(d)\n"
   ]
  },
  {
   "cell_type": "code",
   "execution_count": 26,
   "metadata": {
    "tags": []
   },
   "outputs": [
    {
     "name": "stdout",
     "output_type": "stream",
     "text": [
      "tf.Tensor(\n",
      "[[1 2]\n",
      " [3 4]\n",
      " [5 6]], shape=(3, 2), dtype=int32)\n",
      "tf.Tensor(\n",
      "[[1 3 5]\n",
      " [2 4 6]], shape=(2, 3), dtype=int32)\n"
     ]
    }
   ],
   "source": [
    "import tensorflow as tf\n",
    "x = tf.constant([1, 2])  # [1, 2]\n",
    "y = tf.constant([3, 4])  # [3, 4]\n",
    "z = tf.constant([5, 6])  # [3, 4]\n",
    "\n",
    "print(tf.stack([x, y, z])) # axis = 0 행으로 붙임\n",
    "print(tf.stack([x, y, z], axis =1)) # axis = 1 열로 붙임"
   ]
  },
  {
   "cell_type": "code",
   "execution_count": 28,
   "metadata": {
    "colab": {
     "base_uri": "https://localhost:8080/"
    },
    "executionInfo": {
     "elapsed": 443,
     "status": "ok",
     "timestamp": 1681727140455,
     "user": {
      "displayName": "Bonghee Hong",
      "userId": "17805293653427923937"
     },
     "user_tz": -540
    },
    "id": "k6--JEZqMVuh",
    "outputId": "21549876-d545-4606-9247-dfc362b0a05a",
    "tags": []
   },
   "outputs": [
    {
     "name": "stdout",
     "output_type": "stream",
     "text": [
      "tf.Tensor(\n",
      "[[1 2]\n",
      " [3 4]], shape=(2, 2), dtype=int32)\n",
      "tf.Tensor(\n",
      "[[1 3]\n",
      " [2 4]], shape=(2, 2), dtype=int32)\n",
      "tf.Tensor([1 2 3 4], shape=(4,), dtype=int32)\n",
      "======\n",
      "a tf.Tensor([[1 2]], shape=(1, 2), dtype=int32)\n",
      " c \n",
      " tf.Tensor(\n",
      "[[1 2]\n",
      " [3 4]], shape=(2, 2), dtype=int32)\n",
      "tf.Tensor([[1 2 3 4]], shape=(1, 4), dtype=int32)\n",
      "tf.Tensor(\n",
      "[[1 2]\n",
      " [3 4]\n",
      " [3 4]], shape=(3, 2), dtype=int32)\n",
      "tf.Tensor(\n",
      "[[3]\n",
      " [4]], shape=(2, 1), dtype=int32)\n",
      "tf.Tensor(\n",
      "[[1 2 3]\n",
      " [3 4 4]], shape=(2, 3), dtype=int32)\n"
     ]
    }
   ],
   "source": [
    "#0308\n",
    "import tensorflow as tf\n",
    "\n",
    "#1\n",
    "a = tf.constant([1, 2])  # [1, 2]\n",
    "b = tf.constant([3, 4])  # [3, 4]\n",
    "\n",
    "#2\n",
    "print(tf.stack([a, b])) # axis = 0 행으로 붙임\n",
    "print(tf.stack([a, b], axis = 1)) # 열로 붙임\n",
    " \n",
    "#3\n",
    "print(tf.concat([a, b],axis =0))\n",
    "print(\"======\")\n",
    "a = tf.reshape(a, shape=(1,2))\n",
    "print(\"a\", a)\n",
    "b = tf.reshape(b, shape=(1,2))\n",
    "c = tf.concat([a, b],axis =0)\n",
    "\n",
    "print(\" c \\n\",c)\n",
    " \n",
    "print(tf.concat([a, b],axis =1))\n",
    "print(tf.concat([c, b],axis =0))\n",
    "\n",
    "b = tf.reshape(b, shape=(2,1))\n",
    "print(b)\n",
    "\n",
    "print(tf.concat([c, b],axis =1))\n"
   ]
  },
  {
   "cell_type": "code",
   "execution_count": null,
   "metadata": {
    "colab": {
     "base_uri": "https://localhost:8080/"
    },
    "executionInfo": {
     "elapsed": 779,
     "status": "ok",
     "timestamp": 1681727994331,
     "user": {
      "displayName": "Bonghee Hong",
      "userId": "17805293653427923937"
     },
     "user_tz": -540
    },
    "id": "vNkoGHHzMbU6",
    "outputId": "0de99777-cb09-400b-f503-5d148969649d"
   },
   "outputs": [
    {
     "name": "stdout",
     "output_type": "stream",
     "text": [
      "tf.Tensor([1 2], shape=(2,), dtype=int32)\n",
      "tf.Tensor([[1 2]], shape=(1, 2), dtype=int32)\n",
      "tf.Tensor(\n",
      "[[1]\n",
      " [2]], shape=(2, 1), dtype=int32)\n",
      "tf.Tensor(\n",
      "[[[1]\n",
      "  [2]]], shape=(1, 2, 1), dtype=int32)\n",
      "tf.Tensor([1 2], shape=(2,), dtype=int32)\n",
      "tf.Tensor([[1 2]], shape=(1, 2), dtype=int32)\n"
     ]
    }
   ],
   "source": [
    "#0309\n",
    "import tensorflow as tf\n",
    "#1\n",
    "a = tf.constant([1, 2])\n",
    "print(a)\n",
    "\n",
    "b = tf.expand_dims(a, axis = 0) # 행으로 차원 확장\n",
    "print(b)\n",
    "\n",
    "c = tf.expand_dims(a, axis = 1) # 열로 차원 확장\n",
    "print(c)\n",
    "\n",
    "d = tf.expand_dims(c, axis = 0) \n",
    "print(d)\n",
    "\n",
    "#2\n",
    "e = tf.squeeze(d) # remove all axes of shape size = 1\n",
    "print(e)\n",
    "\n",
    "f = tf.squeeze(d, axis = 2)\n",
    "print(f)\n"
   ]
  },
  {
   "cell_type": "code",
   "execution_count": null,
   "metadata": {
    "colab": {
     "base_uri": "https://localhost:8080/"
    },
    "executionInfo": {
     "elapsed": 331,
     "status": "ok",
     "timestamp": 1681728099325,
     "user": {
      "displayName": "Bonghee Hong",
      "userId": "17805293653427923937"
     },
     "user_tz": -540
    },
    "id": "dahyTVK5MhOa",
    "outputId": "3d08e4fd-75cb-4265-8949-4026620bc2c9"
   },
   "outputs": [
    {
     "name": "stdout",
     "output_type": "stream",
     "text": [
      "tf.Tensor([2 0 1 4 3], shape=(5,), dtype=int32)\n",
      "tf.Tensor(\n",
      "[[0.51010704 0.44353175 0.4085331 ]\n",
      " [0.9924923  0.68866396 0.34584963]], shape=(2, 3), dtype=float32)\n",
      "tf.Tensor(\n",
      "[[-0.45701224 -0.40686727  0.72857773]\n",
      " [-0.8929778   0.31261146  0.9942925 ]], shape=(2, 3), dtype=float32)\n",
      "tf.Tensor(\n",
      "[[13.388033  10.239387   7.6830797]\n",
      " [10.345208   8.571008  11.379201 ]], shape=(2, 3), dtype=float32)\n",
      "tf.Tensor(\n",
      "[[ 0.6118191   0.49197587  0.8756376 ]\n",
      " [-0.6439091   0.94869226 -0.78464967]], shape=(2, 3), dtype=float32)\n",
      "<tf.Variable 'Variable:0' shape=(2, 3) dtype=float32, numpy=\n",
      "array([[-1.1771783 , -0.90325946,  0.8419609 ],\n",
      "       [-0.06870949,  0.33911815, -0.9542566 ]], dtype=float32)>\n"
     ]
    }
   ],
   "source": [
    "#0310\n",
    "import tensorflow as tf\n",
    "\n",
    "tf.random.set_seed(1)\n",
    "a = tf.range(5)\n",
    "print(tf.random.shuffle(a))\n",
    "print(tf.random.uniform(shape=(2, 3), minval=0, maxval=1))\n",
    "print(tf.random.normal(shape=(2,3))) # mean=0, stddev=1\n",
    "print(tf.random.normal(shape=(2,3), mean=10, stddev=2))\n",
    "print(tf.random.truncated_normal(shape=(2, 3))) # mean=0, stddev=1\n",
    "\n",
    "w= tf.Variable(tf.random.truncated_normal(shape=(2, 3)))\n",
    "print(w)\n"
   ]
  },
  {
   "cell_type": "code",
   "execution_count": null,
   "metadata": {
    "colab": {
     "base_uri": "https://localhost:8080/"
    },
    "executionInfo": {
     "elapsed": 3,
     "status": "ok",
     "timestamp": 1681728958485,
     "user": {
      "displayName": "Bonghee Hong",
      "userId": "17805293653427923937"
     },
     "user_tz": -540
    },
    "id": "N6BaZPgpMt7I",
    "outputId": "099a27ef-9bb7-4210-e5c4-e6c505d503fe"
   },
   "outputs": [
    {
     "name": "stdout",
     "output_type": "stream",
     "text": [
      "tf.Tensor([2 3], shape=(2,), dtype=int32)\n",
      "tf.Tensor([0 1], shape=(2,), dtype=int32)\n",
      "tf.Tensor([2 4], shape=(2,), dtype=int32)\n",
      "tf.Tensor([0.5 1. ], shape=(2,), dtype=float64)\n",
      "tf.Tensor([4 6], shape=(2,), dtype=int32)\n",
      "tf.Tensor([-2 -2], shape=(2,), dtype=int32)\n",
      "tf.Tensor([3 8], shape=(2,), dtype=int32)\n",
      "tf.Tensor([0.33333333 0.5       ], shape=(2,), dtype=float64)\n",
      "tf.Tensor(\n",
      "[[2 4]\n",
      " [4 6]], shape=(2, 2), dtype=int32)\n",
      "tf.Tensor(\n",
      "[[0 0]\n",
      " [2 2]], shape=(2, 2), dtype=int32)\n",
      "tf.Tensor(\n",
      "[[1 4]\n",
      " [3 8]], shape=(2, 2), dtype=int32)\n",
      "tf.Tensor(\n",
      "[[1. 1.]\n",
      " [3. 2.]], shape=(2, 2), dtype=float64)\n"
     ]
    }
   ],
   "source": [
    "#0401\n",
    "import tensorflow as tf\n",
    "#1\n",
    "a = tf.constant([1, 2])\n",
    "print(a + 1) # tf.add(a, 1), tf.math.add(a, 1)\n",
    "print(a - 1) # tf.subtract(a, 1), tf.math.subtract(a, 1)\n",
    "print(a * 2) # tf.multiply(a, 2), tf.math.multiply(a, 2)\n",
    "print(a / 2) # tf.divide(a, 2), tf.math.divide(a, 2)\n",
    "\n",
    "#2\n",
    "b = tf.constant([3, 4])\n",
    "print(a + b) # tf.add(a, b)\n",
    "print(a - b) # tf.subtract(a, b)\n",
    "print(a * b) # tf.multiply(a, b)\n",
    "print(a / b)  # tf.divide(a, b)\n",
    "\n",
    "#3\n",
    "a = tf.constant([[1, 2], [3, 4]])\n",
    "b = tf.constant([1, 2])\n",
    "print(a + b) # tf.add(a, b)\n",
    "print(a - b) # tf.subtract(a, b)\n",
    "print(a * b) # tf.multiply(a, b)\n",
    "print(a / b) # tf.divide(a, b)\n"
   ]
  },
  {
   "cell_type": "code",
   "execution_count": null,
   "metadata": {
    "colab": {
     "base_uri": "https://localhost:8080/"
    },
    "executionInfo": {
     "elapsed": 8,
     "status": "ok",
     "timestamp": 1681729003009,
     "user": {
      "displayName": "Bonghee Hong",
      "userId": "17805293653427923937"
     },
     "user_tz": -540
    },
    "id": "Nu7eijSJM37N",
    "outputId": "5a42be96-8d7b-4526-f5c9-5f3ff382f16b"
   },
   "outputs": [
    {
     "name": "stdout",
     "output_type": "stream",
     "text": [
      "tf.Tensor(\n",
      "[[ 0  1  2  3]\n",
      " [ 4  5  6  7]\n",
      " [ 8  9 10 11]], shape=(3, 4), dtype=int32)\n",
      "tf.Tensor(0, shape=(), dtype=int32)\n",
      "tf.Tensor([0 1 2 3], shape=(4,), dtype=int32)\n",
      "tf.Tensor([0 4 8], shape=(3,), dtype=int32)\n",
      "tf.Tensor(11, shape=(), dtype=int32)\n",
      "tf.Tensor([ 8  9 10 11], shape=(4,), dtype=int32)\n",
      "tf.Tensor([ 3  7 11], shape=(3,), dtype=int32)\n",
      "tf.Tensor(66, shape=(), dtype=int32)\n",
      "tf.Tensor([12 15 18 21], shape=(4,), dtype=int32)\n",
      "tf.Tensor([ 6 22 38], shape=(3,), dtype=int32)\n",
      "tf.Tensor(5, shape=(), dtype=int32)\n",
      "tf.Tensor([4 5 6 7], shape=(4,), dtype=int32)\n",
      "tf.Tensor([1 5 9], shape=(3,), dtype=int32)\n",
      "tf.Tensor(0, shape=(), dtype=int32)\n",
      "tf.Tensor([  0  45 120 231], shape=(4,), dtype=int32)\n",
      "tf.Tensor([   0  840 7920], shape=(3,), dtype=int32)\n",
      "tf.Tensor(\n",
      "[[ 1  2  8 10]\n",
      " [ 4  9  3  7]\n",
      " [ 5  6  0 11]], shape=(3, 4), dtype=int32)\n",
      "tf.Tensor([0 0 2 1], shape=(4,), dtype=int64)\n",
      "tf.Tensor([0 2 2], shape=(3,), dtype=int64)\n",
      "tf.Tensor([2 1 0 2], shape=(4,), dtype=int64)\n",
      "tf.Tensor([3 1 3], shape=(3,), dtype=int64)\n",
      "tf.Tensor([ 8 11  3  0  6  9  7 10  1  4  2  5], shape=(12,), dtype=int32)\n",
      "tf.Tensor([ 0  1  2  3  4  5  6  7  8  9 10 11], shape=(12,), dtype=int32)\n",
      "tf.Tensor([11 10  9  8  7  6  5  4  3  2  1  0], shape=(12,), dtype=int32)\n",
      "tf.Tensor(\n",
      "[[ 8 11  3  0]\n",
      " [ 6  9  7 10]\n",
      " [ 1  4  2  5]], shape=(3, 4), dtype=int32)\n",
      "tf.Tensor(\n",
      "[[ 0  3  8 11]\n",
      " [ 6  7  9 10]\n",
      " [ 1  2  4  5]], shape=(3, 4), dtype=int32)\n",
      "tf.Tensor(\n",
      "[[ 1  4  2  0]\n",
      " [ 6  9  3  5]\n",
      " [ 8 11  7 10]], shape=(3, 4), dtype=int32)\n"
     ]
    }
   ],
   "source": [
    "#0402\n",
    "import tensorflow as tf\n",
    "#1\n",
    "a = tf.reshape(tf.range(12), shape = (3, 4))\n",
    "print(a)\n",
    "\n",
    "#2 \n",
    "print(tf.reduce_min(a))\n",
    "print(tf.reduce_min(a, axis= 0))\n",
    "print(tf.reduce_min(a, axis= 1))\n",
    "\n",
    "#3\n",
    "print(tf.reduce_max(a))\n",
    "print(tf.reduce_max(a, axis= 0))\n",
    "print(tf.reduce_max(a, axis= 1))\n",
    "\n",
    "#4\n",
    "print(tf.reduce_sum(a))\n",
    "print(tf.reduce_sum(a, axis= 0))\n",
    "print(tf.reduce_sum(a, axis= 1))\n",
    "\n",
    "#5 \n",
    "print(tf.reduce_mean(a))\n",
    "print(tf.reduce_mean(a, axis= 0)) # 평균값을 행으로 가져와라\n",
    "print(tf.reduce_mean(a, axis= 1))\n",
    "\n",
    "#6\n",
    "print(tf.reduce_prod(a))\n",
    "print(tf.reduce_prod(a, axis= 0))\n",
    "print(tf.reduce_prod(a, axis= 1))\n",
    "\n",
    "#7 -학습 시에 shuffle 사용\n",
    "a = tf.reshape(tf.random.shuffle(tf.range(12)), shape = (3, 4))\n",
    "print(a)\n",
    "\n",
    "# 학습시에 사용 armin() 최소값 잦는 값의 인덱스\n",
    "print(tf.argmin(a)) #  tf.argmin(a, axis =0)\n",
    "print(tf.argmin(a, axis =1))\n",
    "print(tf.argmax(a)) # tf.argmax(a, axis =0)\n",
    "print(tf.argmax(a, axis =1))\n",
    "\n",
    "#8 = 훈련 데이터 학습\n",
    "a = tf.random.shuffle(tf.range(12))\n",
    "print(a)\n",
    "print(tf.sort(a)) # direction=\"ASCENDING\"\n",
    "print(tf.sort(a, direction=\"DESCENDING\"))\n",
    "\n",
    "a = tf.reshape(a, shape=(3, 4))\n",
    "print(a)\n",
    "print(tf.sort(a)) # tf.sort(a, axis = 1)\n",
    "print(tf.sort(a, axis = 0))\n"
   ]
  },
  {
   "cell_type": "code",
   "execution_count": null,
   "metadata": {
    "colab": {
     "base_uri": "https://localhost:8080/"
    },
    "executionInfo": {
     "elapsed": 485,
     "status": "ok",
     "timestamp": 1681654218084,
     "user": {
      "displayName": "Bonghee Hong",
      "userId": "17805293653427923937"
     },
     "user_tz": -540
    },
    "id": "pGg3G8OSM_me",
    "outputId": "2040829d-b65e-4a5a-958f-83a4cb6b2b10"
   },
   "outputs": [
    {
     "name": "stdout",
     "output_type": "stream",
     "text": [
      "Tensor(\"norm/Squeeze:0\", shape=(), dtype=float32)\n",
      "Tensor(\"matrix_transpose/transpose:0\", shape=(2, 2), dtype=float32)\n",
      "Tensor(\"MatrixDeterminant:0\", shape=(), dtype=float32)\n",
      "Tensor(\"MatrixInverse:0\", shape=(2, 2), dtype=float32)\n",
      "Tensor(\"MatMul:0\", shape=(2, 2), dtype=float32)\n"
     ]
    }
   ],
   "source": [
    "#0403\n",
    "import tensorflow as tf\n",
    "#1\n",
    "a = tf.constant([1, 2, 3], dtype=tf.float32)\n",
    "print(tf.norm(a)) # tf.linalg.norm(a)\n",
    "\n",
    "#2\n",
    "A = tf.constant([[1, 2], [3, 4]], dtype=tf.float32)\n",
    "print(tf.linalg.matrix_transpose(A))\n",
    "\n",
    "#3\n",
    "print(tf.linalg.det(A))\n",
    "\n",
    "B =  tf.linalg.inv(A) \n",
    "print(B)\n",
    "print(tf.matmul(A, B))  # tf.linalg.matmul(A, B)\n",
    "\n"
   ]
  },
  {
   "cell_type": "code",
   "execution_count": null,
   "metadata": {
    "colab": {
     "base_uri": "https://localhost:8080/"
    },
    "executionInfo": {
     "elapsed": 463,
     "status": "ok",
     "timestamp": 1681654230157,
     "user": {
      "displayName": "Bonghee Hong",
      "userId": "17805293653427923937"
     },
     "user_tz": -540
    },
    "id": "sWuU4gKZNIFU",
    "outputId": "9eb05730-4df3-49bb-c485-8072bd0f0347"
   },
   "outputs": [
    {
     "name": "stdout",
     "output_type": "stream",
     "text": [
      "Tensor(\"MatrixDeterminant_1:0\", shape=(), dtype=float32)\n",
      "Tensor(\"MatMul_1:0\", shape=(3, 1), dtype=float32)\n",
      "Tensor(\"Less:0\", shape=(), dtype=bool)\n",
      "Tensor(\"MatrixSolve:0\", shape=(3, 1), dtype=float32)\n",
      "Tensor(\"Less_1:0\", shape=(), dtype=bool)\n"
     ]
    }
   ],
   "source": [
    "#0404\n",
    "import tensorflow as tf\n",
    "#1\n",
    "A = tf.constant([[1, 4,  1],\n",
    "\t         [1, 6, -1],\n",
    "\t\t [2, -1, 2]], dtype=tf.float32)\n",
    "b = tf.constant([[ 7],\n",
    "                 [13],\n",
    "                 [ 5]], dtype=tf.float32)\n",
    "\n",
    "#2\n",
    "print(tf.linalg.det(A))\n",
    "\n",
    "x = tf.matmul(tf.linalg.inv(A), b)\n",
    "print(x)\n",
    "\n",
    "#3\n",
    "def all_close(x, y, tol=1e-5):\n",
    "#\treturn tf.reduce_sum(tf.abs(x - y)) < tol\n",
    "         return tf.reduce_sum(tf.square(x - y)) < tol\n",
    "print(all_close(tf.matmul(A, x), b))\n",
    "\n",
    "#4\n",
    "x = tf.linalg.solve(A, b)\n",
    "print(x)\n",
    "print(all_close(tf.matmul(A, x), b))\n"
   ]
  },
  {
   "cell_type": "code",
   "execution_count": null,
   "metadata": {
    "colab": {
     "base_uri": "https://localhost:8080/"
    },
    "executionInfo": {
     "elapsed": 284,
     "status": "ok",
     "timestamp": 1681654243640,
     "user": {
      "displayName": "Bonghee Hong",
      "userId": "17805293653427923937"
     },
     "user_tz": -540
    },
    "id": "DhpGlqtKNNoA",
    "outputId": "d796bbd9-6a6f-4f31-a901-b3954c4f2c9f"
   },
   "outputs": [
    {
     "name": "stdout",
     "output_type": "stream",
     "text": [
      "Tensor(\"Lu:0\", shape=(3, 3), dtype=float32)\n",
      "Tensor(\"Lu:1\", shape=(3,), dtype=int32)\n",
      "Tensor(\"MatrixBandPart:0\", shape=(3, 3), dtype=float32)\n",
      "Tensor(\"MatrixBandPart_1:0\", shape=(3, 3), dtype=float32)\n",
      "Tensor(\"set_diag:0\", shape=(3, 3), dtype=float32)\n",
      "Tensor(\"GatherV2:0\", shape=(3, 3), dtype=float32)\n",
      "Tensor(\"lu_reconstruct/GatherV2:0\", shape=(3, 3), dtype=float32)\n",
      "Tensor(\"MatMul_5:0\", shape=(3, 3), dtype=float32)\n",
      "Tensor(\"lu_solve/triangular_solve_1/MatrixTriangularSolve:0\", shape=(3, 1), dtype=float32)\n",
      "Tensor(\"triangular_solve/MatrixTriangularSolve:0\", shape=(3, 1), dtype=float32)\n",
      "Tensor(\"triangular_solve_1/MatrixTriangularSolve:0\", shape=(3, 1), dtype=float32)\n",
      "Tensor(\"diag_part:0\", shape=(3,), dtype=float32)\n",
      "Tensor(\"count_nonzero/Sum:0\", shape=(), dtype=int64)\n",
      "Tensor(\"Prod_3:0\", shape=(), dtype=float32)\n",
      "Tensor(\"Prod_4:0\", shape=(), dtype=float32)\n",
      "Tensor(\"MatrixDeterminant_2:0\", shape=(), dtype=float32)\n",
      "Tensor(\"mul_4:0\", shape=(), dtype=float32)\n"
     ]
    }
   ],
   "source": [
    "#0405\n",
    "import tensorflow as tf\n",
    "#1\n",
    "A = tf.constant([[1, 4,  1],\n",
    " \t         [1, 6, -1],\n",
    "\t\t [2, -1, 2]], dtype=tf.float32)\n",
    "L_U, p = tf.linalg.lu(A)\n",
    "print(L_U)\n",
    "print(p)\n",
    "\n",
    "#2: make P, L, U\n",
    "U = tf.linalg.band_part(L_U, 0, -1) # Upper triangular\n",
    "print(U)\n",
    "\n",
    "L = tf.linalg.band_part(L_U, -1, 0) # Lower triangular\n",
    "print(L)\n",
    "L = tf.linalg.set_diag(L, [1, 1, 1]) # strictly lower triangular part of LU\n",
    "print(L)\n",
    "\n",
    "P = tf.gather(tf.eye(3), p)\n",
    "print(P)\n",
    "\n",
    "#3: check A= PLU \n",
    "#3-1:\n",
    "print(tf.linalg.lu_reconstruct(L_U, p))\n",
    "\n",
    "#3-2: calculate directly the same as #3-1\n",
    "print(tf.matmul(P, tf.matmul(L, U))) # tf.gather(tf.matmul(L, U), p)\n",
    "\n",
    "#4: solve AX = b using PLUx = b\n",
    "b = tf.constant([[ 7],\n",
    "                 [13],\n",
    "                 [ 5]], dtype=tf.float32)\n",
    "#4-1:\n",
    "print(tf.linalg.lu_solve(L_U, p, b))\n",
    "\n",
    "\n",
    "#4-2: calculate directly the same as #4-1\n",
    "y = tf.linalg.triangular_solve(L, tf.matmul(tf.transpose(P), b))\n",
    "print(y)\n",
    "\n",
    "x = tf.linalg.triangular_solve(U, y, lower=False)\n",
    "print(x)\n",
    "\n",
    "#5: stuff: pivots, calulate det(A), rank(A)\n",
    "D = tf.linalg.diag_part(L_U) # tf.linalg.diag_part(U)\n",
    "print(D)\n",
    "\n",
    "rank = tf.math.count_nonzero(D)\n",
    "print(rank)\n",
    "\n",
    "det_U = tf.reduce_prod(tf.linalg.diag_part(U)) # tf.linalg.det(U)\n",
    "print(det_U)\n",
    "\n",
    "det_L = tf.reduce_prod(tf.linalg.diag_part(L)) # # tf.linalg.det(L)  \n",
    "print(det_L)\n",
    "\n",
    "det_P = tf.linalg.det(P)\n",
    "print(det_P)\n",
    "\n",
    "det_A = det_P*det_L*det_U # tf.linalg.det(A)\n",
    "print(det_A)\n"
   ]
  },
  {
   "cell_type": "code",
   "execution_count": null,
   "metadata": {
    "id": "hWmpat0lNUbV"
   },
   "outputs": [],
   "source": [
    "#0406\n",
    "import tensorflow as tf\n",
    "#1\n",
    "A = tf.constant([[0, 1],\n",
    "\t\t [1, 1],\n",
    "\t\t [2, 1]], dtype=tf.float32)\n",
    "b = tf.constant([[ 6],\n",
    "                 [ 0],\n",
    "                 [ 0]], dtype=tf.float32)\n",
    "At = tf.transpose(A)\n",
    "C = tf.matmul(At, A)\n",
    "print(C)\n",
    "\n",
    "#2\n",
    "x = tf.linalg.solve(C, tf.matmul(At, b))\n",
    "print(x)\n",
    "\n",
    "#3\n",
    "x2 = tf.matmul(tf.matmul(tf.linalg.inv(C), At), b)\n",
    "print(x2)\n",
    "\n",
    "#4\n",
    "L_U, p = tf.linalg.lu(C)\n",
    "x3 = tf.linalg.lu_solve(L_U, p, tf.matmul(At, b))\n",
    "print(x3)\n",
    "\n",
    "#4 \n",
    "x4 = tf.linalg.lstsq(A, b)\n",
    "print(x4)\n",
    "\n",
    "# draw the line\n",
    "m, c = x.numpy()[:,0]\n",
    "import matplotlib.pyplot as plt\n",
    "plt.gca().set_aspect('equal')\n",
    "plt.scatter(x = A.numpy()[:,0], y = b.numpy())\n",
    "t = tf.linspace(-1.0, 3.0, num=51)\n",
    "b1 = m*t + c\n",
    "plt.plot(t, b1, \"b-\")\n",
    "plt.axis([-1, 10, -1, 10])\n",
    "plt.show()\n"
   ]
  },
  {
   "cell_type": "code",
   "execution_count": 30,
   "metadata": {
    "colab": {
     "base_uri": "https://localhost:8080/",
     "height": 466
    },
    "executionInfo": {
     "elapsed": 1048,
     "status": "ok",
     "timestamp": 1681729950618,
     "user": {
      "displayName": "Bonghee Hong",
      "userId": "17805293653427923937"
     },
     "user_tz": -540
    },
    "id": "-6DMfQIWNc4f",
    "outputId": "7a442ae2-2709-42e8-a8b8-839561dff916",
    "tags": []
   },
   "outputs": [
    {
     "name": "stdout",
     "output_type": "stream",
     "text": [
      "k=1000: f(-0.09462380409240723)=2.0026218574345713\n",
      "[f(0), f(9/4), f(-2), f(4)]= [2, -6.54296875, 42, 66]\n"
     ]
    },
    {
     "data": {
      "image/png": "[encoded data removed]",
      "text/plain": [
       "<Figure size 640x480 with 1 Axes>"
      ]
     },
     "metadata": {},
     "output_type": "display_data"
    }
   ],
   "source": [
    "#0407 = 경사하강법\n",
    "import tensorflow as tf\n",
    "import numpy as np\n",
    "import matplotlib.pyplot as plt\n",
    "\n",
    "#1\n",
    "def f(x):\n",
    "    return x**4 - 3*x**3 +2\n",
    "\n",
    "def fprime(x): # forward difference\n",
    "    h = 0.001\n",
    "    return (f(x+h) - f(x))/h\n",
    "\n",
    "#2\n",
    "k = 0\n",
    "max_iters = 1000 # 최대 반복횟수\n",
    "lr = 0.001  # 학습률\n",
    "tol = 1e-5 # 허용 오차 크기\n",
    "\n",
    "x_old = 0.0\n",
    "x_new =  -2.0#4.0  # -2.0\n",
    "x_list= [x_new]  # list of x_new\n",
    "x = tf.Variable(x_new, dtype = tf.float32) # initial value 4\n",
    "\n",
    "while abs(x_old-x_new)>tol and  k < max_iters: # 허용오차보다 크고, 반복횟수가 부족하면 계속 돈다.\n",
    "    k+=1\n",
    "    x_old= x.numpy()\n",
    "    step = lr * fprime(x) # 그래디언트 방향으로 움직일 값\n",
    "    x.assign_sub(step, read_value=False) # update value by gradient decent method \n",
    "    x_new= x.numpy()\n",
    "    x_list.append(x_new)\n",
    "##    print('k={}: f({})={}'.format(k, x_new, f(x_new)))\n",
    "print('k={}: f({})={}'.format(k, x_new, f(x_new))) # final solution\n",
    "\n",
    "#3: check solutions\n",
    "print(\"[f(0), f(9/4), f(-2), f(4)]=\", [f(0), f(9/4), f(-2), f(4)])\n",
    "# [f(0), f(9/4), f(-2), f(4)]: [2, -6.54296875, 42, 66] \n",
    "\n",
    "#4: draw graph \n",
    "#4-1: graph f(x)\n",
    "##x_values = np.linspace(-2.0, 4.0, num = 101) # numpy.ndarray\n",
    "xs = tf.linspace(-2.0, 4.0, num = 101) # Tensor  \n",
    "ys = f(xs)\n",
    "plt.plot(xs, ys,  'b-')\n",
    "\n",
    "#4-2: f(x_new), updated solutions\n",
    "##x_list =np.array(x_list) # numpy.ndarray\n",
    "x_list =tf.constant(x_list, dtype=tf.float32)  # Tensor\n",
    "y_list = f(x_list) \n",
    "plt.plot(x_list, y_list, 'ro')\n",
    "plt.show()\n"
   ]
  }
 ],
 "metadata": {
  "colab": {
   "authorship_tag": "ABX9TyMHgJhRGTpMTP5c30JBf8G5",
   "provenance": [
    {
     "file_id": "1VUp8t5MKLtnPiT1WlF784DH1XE4Pn7Ub",
     "timestamp": 1672188780260
    }
   ]
  },
  "kernelspec": {
   "display_name": "Python 3 (ipykernel)",
   "language": "python",
   "name": "python3"
  },
  "language_info": {
   "codemirror_mode": {
    "name": "ipython",
    "version": 3
   },
   "file_extension": ".py",
   "mimetype": "text/x-python",
   "name": "python",
   "nbconvert_exporter": "python",
   "pygments_lexer": "ipython3",
   "version": "3.10.10"
  }
 },
 "nbformat": 4,
 "nbformat_minor": 4
}
